{
 "cells": [
  {
   "cell_type": "code",
   "execution_count": null,
   "id": "33a76e35-cbf4-4659-b1ab-34acbd2d4794",
   "metadata": {},
   "outputs": [],
   "source": [
    "# 引入正则表达式库\n",
    "import re\n",
    "\n",
    "# 初始化最大值变量\n",
    "max_mean_IoU = 0\n",
    "\n",
    "# 文件路径，根据实际情况修改\n",
    "log_file_path = '/root/autodl-tmp/LFSOD/bestlf/log_NYUDepthv2_mit_b0/val_last.log'  # 修改这里为你的文件路径\n",
    "\n",
    "# 打开文件并读取每一行\n",
    "with open(log_file_path, 'r') as file:\n",
    "    for line in file:\n",
    "        # 使用正则表达式找到mean_IoU值，匹配该行的特定部分\n",
    "        match = re.search('mean_IoU\\s+(\\d+\\.\\d+)%', line)\n",
    "        if match:\n",
    "            # 将找到的值转换为浮点数\n",
    "            current_value = float(match.group(1))\n",
    "            # 如果这个值是目前找到的最大值，更新最大值变量\n",
    "            if current_value > max_mean_IoU:\n",
    "                max_mean_IoU = current_value\n",
    "\n",
    "# 打印最大的mean_IoU值\n",
    "print(f'The highest mean_IoU value found is: {max_mean_IoU}%')"
   ]
  }
 ],
 "metadata": {
  "kernelspec": {
   "display_name": "Python 3 (ipykernel)",
   "language": "python",
   "name": "python3"
  },
  "language_info": {
   "codemirror_mode": {
    "name": "ipython",
    "version": 3
   },
   "file_extension": ".py",
   "mimetype": "text/x-python",
   "name": "python",
   "nbconvert_exporter": "python",
   "pygments_lexer": "ipython3",
   "version": "3.8.10"
  }
 },
 "nbformat": 4,
 "nbformat_minor": 5
}
